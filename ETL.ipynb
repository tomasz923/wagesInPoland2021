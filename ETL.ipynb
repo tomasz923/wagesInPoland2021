{
 "cells": [
  {
   "cell_type": "markdown",
   "metadata": {},
   "source": [
    "# Creating a file with the desired columns"
   ]
  },
  {
   "cell_type": "code",
   "execution_count": 9,
   "metadata": {},
   "outputs": [],
   "source": [
    "import pandas as pd\n",
    "import seaborn as sns\n",
    "\n",
    "#Defining variables\n",
    "inputFile = r'C:\\Users\\Tomek\\Desktop\\wagesInPoland2021\\artifacts\\dataFull.xlsx'\n",
    "columns = [25, 38, 40, 357, 11, 14, 55, 204,  821, 823]\n",
    "outputFile = r'C:\\Users\\Tomek\\Desktop\\wagesInPoland2021\\artifacts\\dataTreated.xlsx'"
   ]
  },
  {
   "cell_type": "code",
   "execution_count": 10,
   "metadata": {},
   "outputs": [],
   "source": [
    "#Creating dataframe\n",
    "df = pd.read_excel(inputFile)\n",
    "dfNew = df.iloc[:, columns]"
   ]
  },
  {
   "cell_type": "code",
   "execution_count": 11,
   "metadata": {},
   "outputs": [
    {
     "name": "stdout",
     "output_type": "stream",
     "text": [
      "The dataframe was saved in C:\\Users\\Tomek\\Desktop\\wagesInPoland2021\\artifacts\\dataTreated.xlsx.\n"
     ]
    }
   ],
   "source": [
    "#Saving the file\n",
    "dfNew.to_excel(outputFile)\n",
    "print(f\"The dataframe was saved in {outputFile}.\")"
   ]
  }
 ],
 "metadata": {
  "kernelspec": {
   "display_name": "Python 3",
   "language": "python",
   "name": "python3"
  },
  "language_info": {
   "codemirror_mode": {
    "name": "ipython",
    "version": 3
   },
   "file_extension": ".py",
   "mimetype": "text/x-python",
   "name": "python",
   "nbconvert_exporter": "python",
   "pygments_lexer": "ipython3",
   "version": "3.11.4"
  },
  "orig_nbformat": 4
 },
 "nbformat": 4,
 "nbformat_minor": 2
}
