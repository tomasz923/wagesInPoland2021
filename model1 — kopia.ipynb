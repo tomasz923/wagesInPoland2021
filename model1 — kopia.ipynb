{
 "cells": [
  {
   "cell_type": "code",
   "execution_count": 1,
   "metadata": {},
   "outputs": [],
   "source": [
    "import pandas as pd\n",
    "import numpy as np\n",
    "import statsmodels.api as sm\n",
    "import statsmodels.formula.api as smf"
   ]
  },
  {
   "cell_type": "code",
   "execution_count": 5,
   "metadata": {},
   "outputs": [
    {
     "name": "stderr",
     "output_type": "stream",
     "text": [
      "c:\\Users\\Tomek\\AppData\\Local\\Programs\\Python\\Python311\\Lib\\site-packages\\statsmodels\\regression\\quantile_regression.py:191: IterationLimitWarning: Maximum number of iterations (1000) reached.\n",
      "  warnings.warn(\"Maximum number of iterations (\" + str(max_iter) +\n",
      "c:\\Users\\Tomek\\AppData\\Local\\Programs\\Python\\Python311\\Lib\\site-packages\\statsmodels\\regression\\quantile_regression.py:191: IterationLimitWarning: Maximum number of iterations (1000) reached.\n",
      "  warnings.warn(\"Maximum number of iterations (\" + str(max_iter) +\n"
     ]
    },
    {
     "name": "stdout",
     "output_type": "stream",
     "text": [
      "[<statsmodels.regression.linear_model.RegressionResultsWrapper object at 0x000001689CF8BB90>, <statsmodels.regression.linear_model.RegressionResultsWrapper object at 0x000001689A9885D0>, <statsmodels.regression.linear_model.RegressionResultsWrapper object at 0x000001689A98A2D0>, <statsmodels.regression.linear_model.RegressionResultsWrapper object at 0x000001689CFF9510>, <statsmodels.regression.linear_model.RegressionResultsWrapper object at 0x000001689CFF9810>]\n"
     ]
    },
    {
     "name": "stderr",
     "output_type": "stream",
     "text": [
      "c:\\Users\\Tomek\\AppData\\Local\\Programs\\Python\\Python311\\Lib\\site-packages\\statsmodels\\regression\\quantile_regression.py:191: IterationLimitWarning: Maximum number of iterations (1000) reached.\n",
      "  warnings.warn(\"Maximum number of iterations (\" + str(max_iter) +\n"
     ]
    }
   ],
   "source": [
    "df = pd.read_excel(r\"C:\\Users\\Tomek\\Desktop\\wagesInPoland2021\\artefacts\\hot_encode.xlsx\")\n",
    "zmienne_niezalezne = [\n",
    "    'doswiadczenie_log',\n",
    "    'czy_ma_mature',\n",
    "    'czy_ma_lic',\n",
    "    'czy_ma_inz',\n",
    "    'czy_ma_mgr',\n",
    "    'czy_ma_mgrinz',\n",
    "    'czy_ma_podyplomowe',\n",
    "    'czy_ma_mba',\n",
    "    'czy_ma_phd',\n",
    "    'kujawsko_pomorskie',\n",
    "    'lubelskie',\n",
    "    'lubuskie',\n",
    "    'lodzkie',\n",
    "    'malopolskie',\n",
    "    'mazowieckie',\n",
    "    'opolskie',\n",
    "    'podkarpackie',\n",
    "    'podlaskie',\n",
    "    'pomorskie',\n",
    "    'slaskie',\n",
    "    'swietokrzyskie',\n",
    "    'warminsko_mazurskie',\n",
    "    'wielkopolskie',\n",
    "    'zachodniopomorskie',\n",
    "    'male_miasto',\n",
    "    'srednie_miasto',\n",
    "    'duze_miasto',\n",
    "    'kobieta'\n",
    "]\n",
    "\n",
    "kwantyle = [0.10, 0.25, 0.50, 0.75, 0.90]\n",
    "\n",
    "wyniki = []\n",
    "\n",
    "for q in kwantyle:\n",
    "    formula = f'pensja ~ doswiadczenie_log + ' + ' + '.join(zmienne_niezalezne)\n",
    "    model = smf.quantreg(formula, data=df)\n",
    "    quantreg_results = model.fit(q=q)\n",
    "    wyniki.append(quantreg_results)\n",
    "\n",
    "print(wyniki)\n"
   ]
  },
  {
   "cell_type": "code",
   "execution_count": 10,
   "metadata": {},
   "outputs": [],
   "source": [
    "for i, result in enumerate(wyniki):\n",
    "    with open(f'./wyniki_model1_poprawiony/kwantyl_{kwantyle[i]}_wyniki.txt', 'w') as file:\n",
    "        file.write(result.summary().as_text())"
   ]
  }
 ],
 "metadata": {
  "kernelspec": {
   "display_name": "Python 3",
   "language": "python",
   "name": "python3"
  },
  "language_info": {
   "codemirror_mode": {
    "name": "ipython",
    "version": 3
   },
   "file_extension": ".py",
   "mimetype": "text/x-python",
   "name": "python",
   "nbconvert_exporter": "python",
   "pygments_lexer": "ipython3",
   "version": "3.11.4"
  },
  "orig_nbformat": 4
 },
 "nbformat": 4,
 "nbformat_minor": 2
}
