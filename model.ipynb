{
 "cells": [
  {
   "cell_type": "code",
   "execution_count": 1,
   "metadata": {},
   "outputs": [],
   "source": [
    "import pandas as pd\n",
    "import numpy as np\n",
    "import statsmodels.api as sm\n",
    "import statsmodels.formula.api as smf"
   ]
  },
  {
   "cell_type": "code",
   "execution_count": 11,
   "metadata": {},
   "outputs": [
    {
     "name": "stderr",
     "output_type": "stream",
     "text": [
      "c:\\Users\\Tomek\\AppData\\Local\\Programs\\Python\\Python311\\Lib\\site-packages\\statsmodels\\regression\\quantile_regression.py:191: IterationLimitWarning: Maximum number of iterations (1000) reached.\n",
      "  warnings.warn(\"Maximum number of iterations (\" + str(max_iter) +\n",
      "c:\\Users\\Tomek\\AppData\\Local\\Programs\\Python\\Python311\\Lib\\site-packages\\statsmodels\\regression\\quantile_regression.py:191: IterationLimitWarning: Maximum number of iterations (1000) reached.\n",
      "  warnings.warn(\"Maximum number of iterations (\" + str(max_iter) +\n",
      "c:\\Users\\Tomek\\AppData\\Local\\Programs\\Python\\Python311\\Lib\\site-packages\\statsmodels\\regression\\quantile_regression.py:191: IterationLimitWarning: Maximum number of iterations (1000) reached.\n",
      "  warnings.warn(\"Maximum number of iterations (\" + str(max_iter) +\n"
     ]
    }
   ],
   "source": [
    "df = pd.read_excel(r\"C:\\Users\\Tomek\\Desktop\\wagesInPoland2021\\artefacts\\hot_encode.xlsx\")\n",
    "zmienne_niezalezne = [\n",
    "    'doswiadczenie_log',\n",
    "    'czy_bez_matury',\n",
    "    'czy_ma_mature',\n",
    "    'czy_ma_lic',\n",
    "    'czy_ma_inz',\n",
    "    'czy_ma_mgr',\n",
    "    'czy_ma_mgrinz',\n",
    "    'czy_ma_podyplomowe',\n",
    "    'czy_ma_mba',\n",
    "    'czy_ma_phd',\n",
    "    'dolnoslaskie',\n",
    "    'kujawsko_pomorskie',\n",
    "    'lubelskie',\n",
    "    'lubuskie',\n",
    "    'lodzkie',\n",
    "    'malopolskie',\n",
    "    'mazowieckie',\n",
    "    'opolskie',\n",
    "    'podkarpackie',\n",
    "    'podlaskie',\n",
    "    'pomorskie',\n",
    "    'slaskie',\n",
    "    'swietokrzyskie',\n",
    "    'warminsko_mazurskie',\n",
    "    'wielkopolskie',\n",
    "    'zachodniopomorskie',\n",
    "    'wies',\n",
    "    'male_miasto',\n",
    "    'srednie_miasto',\n",
    "    'duze_miasto',\n",
    "    'mezczyzna',\n",
    "    'kobieta'\n",
    "]\n",
    "\n",
    "kwantyle = [0.10, 0.25, 0.50, 0.75, 0.90]\n",
    "\n",
    "wyniki = []\n",
    "\n",
    "for q in kwantyle:\n",
    "    formula = f'pensja ~ doswiadczenie_log + ' + ' + '.join(zmienne_niezalezne)\n",
    "    model = smf.quantreg(formula, data=df)\n",
    "    quantreg_results = model.fit(q=q)\n",
    "    wyniki.append(quantreg_results)\n"
   ]
  },
  {
   "cell_type": "code",
   "execution_count": 12,
   "metadata": {},
   "outputs": [
    {
     "name": "stderr",
     "output_type": "stream",
     "text": [
      "c:\\Users\\Tomek\\AppData\\Local\\Programs\\Python\\Python311\\Lib\\site-packages\\statsmodels\\regression\\linear_model.py:1965: RuntimeWarning: invalid value encountered in sqrt\n",
      "  return np.sqrt(eigvals[0]/eigvals[-1])\n"
     ]
    }
   ],
   "source": [
    "with open(r\"C:\\Users\\Tomek\\Desktop\\wagesInPoland2021\\artefacts\\summary.txt\", 'w') as file:\n",
    "    \n",
    "    file.write(quantreg_results.summary().as_text())\n",
    "    \n",
    "file.close()"
   ]
  }
 ],
 "metadata": {
  "kernelspec": {
   "display_name": "Python 3",
   "language": "python",
   "name": "python3"
  },
  "language_info": {
   "codemirror_mode": {
    "name": "ipython",
    "version": 3
   },
   "file_extension": ".py",
   "mimetype": "text/x-python",
   "name": "python",
   "nbconvert_exporter": "python",
   "pygments_lexer": "ipython3",
   "version": "3.11.4"
  },
  "orig_nbformat": 4
 },
 "nbformat": 4,
 "nbformat_minor": 2
}
