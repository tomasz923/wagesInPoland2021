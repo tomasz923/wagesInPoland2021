{
 "cells": [
  {
   "cell_type": "code",
   "execution_count": 30,
   "metadata": {},
   "outputs": [],
   "source": [
    "#Pobieranie potrzebnych bibliotek\n",
    "import numpy as np\n",
    "import pandas as pd\n",
    "import statsmodels.api as sm"
   ]
  },
  {
   "cell_type": "code",
   "execution_count": 31,
   "metadata": {},
   "outputs": [
    {
     "name": "stdout",
     "output_type": "stream",
     "text": [
      "Index(['Unnamed: 0', 'doswiadczenie', 'pensja', 'najwyzsze', 'matura',\n",
      "       'doswiadczenie_log', 'czy_ma_mature', 'czy_ma_lic', 'czy_ma_inz',\n",
      "       'czy_ma_mgr', 'czy_ma_mgrinz', 'czy_ma_podyplomowe', 'czy_ma_mba',\n",
      "       'czy_ma_phd', 'kujawsko_pomorskie', 'lubelskie', 'lubuskie', 'lodzkie',\n",
      "       'malopolskie', 'mazowieckie', 'opolskie', 'podkarpackie', 'podlaskie',\n",
      "       'pomorskie', 'slaskie', 'swietokrzyskie', 'warminsko_mazurskie',\n",
      "       'wielkopolskie', 'zachodniopomorskie', 'male_miasto', 'srednie_miasto',\n",
      "       'duze_miasto', 'kobieta', 'ln_wyn', 'edukacja_stp'],\n",
      "      dtype='object')\n",
      "   Unnamed: 0  doswiadczenie  pensja  najwyzsze  matura  doswiadczenie_log  \\\n",
      "0           0             39    2500        NaN       0           3.688879   \n",
      "\n",
      "   czy_ma_mature  czy_ma_lic  czy_ma_inz  czy_ma_mgr  ...  zachodniopomorskie  \\\n",
      "0          False       False       False       False  ...               False   \n",
      "\n",
      "   male_miasto  srednie_miasto  duze_miasto  kobieta    ln_wyn  edukacja_stp  \\\n",
      "0         True           False        False    False  7.824046             0   \n",
      "\n",
      "   Intercept  edu_lata  dosw_sqrt  \n",
      "0          1       8.0       1521  \n",
      "\n",
      "[1 rows x 38 columns]\n"
     ]
    }
   ],
   "source": [
    "#Ładowanie danych i sprawdzenie kolumn\n",
    "data = pd.read_excel('./artefacts/Mincer.xlsx')\n",
    "print(data.columns)\n",
    "\n",
    "#Stworzenie kolumny z jedynkami (intercept)\n",
    "data['Intercept'] = 1\n",
    "\n",
    "#Stworzenie kolumny 'lata_edukacji'\n",
    "edu_mapping = {\n",
    "    0 :  8,\n",
    "    1:  12,\n",
    "    2:  15,\n",
    "    3:  15.5,\n",
    "    4:  17,\n",
    "    5:  17,\n",
    "    6:  19,\n",
    "    7:  19,\n",
    "    8:  21\n",
    "}\n",
    "\n",
    "data['edu_lata'] = data['edukacja_stp'].map(edu_mapping)\n",
    "data['dosw_sqrt'] = data['doswiadczenie']**2\n",
    "print(data.head(1))"
   ]
  },
  {
   "cell_type": "code",
   "execution_count": 32,
   "metadata": {},
   "outputs": [
    {
     "name": "stdout",
     "output_type": "stream",
     "text": [
      "0\n"
     ]
    }
   ],
   "source": [
    "# Check for missing values\n",
    "print(data['edu_lata'].isna().sum())\n"
   ]
  },
  {
   "cell_type": "code",
   "execution_count": 34,
   "metadata": {},
   "outputs": [
    {
     "name": "stdout",
     "output_type": "stream",
     "text": [
      "                 Generalized Linear Model Regression Results                  \n",
      "==============================================================================\n",
      "Dep. Variable:                 pensja   No. Observations:                  935\n",
      "Model:                            GLM   Df Residuals:                      931\n",
      "Model Family:                Gaussian   Df Model:                            3\n",
      "Link Function:                    log   Scale:                         0.23565\n",
      "Method:                          IRLS   Log-Likelihood:                -648.98\n",
      "Date:                Sun, 10 Sep 2023   Deviance:                       219.39\n",
      "Time:                        23:05:49   Pearson chi2:                     219.\n",
      "No. Iterations:                     5   Pseudo R-squ. (CS):             0.1180\n",
      "Covariance Type:            nonrobust                                         \n",
      "=================================================================================\n",
      "                    coef    std err          z      P>|z|      [0.025      0.975]\n",
      "---------------------------------------------------------------------------------\n",
      "Intercept         2.0143      0.008    238.616      0.000       1.998       2.031\n",
      "edu_lata          0.0049      0.001      9.648      0.000       0.004       0.006\n",
      "doswiadczenie     0.0027      0.001      4.603      0.000       0.002       0.004\n",
      "dosw_sqrt     -5.129e-05   1.31e-05     -3.923      0.000   -7.69e-05   -2.57e-05\n",
      "=================================================================================\n"
     ]
    },
    {
     "name": "stderr",
     "output_type": "stream",
     "text": [
      "c:\\Users\\Tomek\\AppData\\Local\\Programs\\Python\\Python311\\Lib\\site-packages\\statsmodels\\genmod\\families\\links.py:13: FutureWarning: The log link alias is deprecated. Use Log instead. The log link alias will be removed after the 0.15.0 release.\n",
      "  warnings.warn(\n"
     ]
    }
   ],
   "source": [
    "# Define the independent variables and the dependent variable\n",
    "X = data[['Intercept', 'edu_lata', 'doswiadczenie', 'dosw_sqrt']]\n",
    "y = np.log(data['pensja'])\n",
    "\n",
    "# Perform Maximum Likelihood Estimation (MLE) using the OLS results as initial estimates\n",
    "mle_model = sm.GLM(y, X, family=sm.families.Gaussian(link=sm.families.links.log())).fit()\n",
    "\n",
    "# Print the summary of the MLE model\n",
    "print(mle_model.summary())"
   ]
  },
  {
   "cell_type": "code",
   "execution_count": 28,
   "metadata": {},
   "outputs": [],
   "source": [
    "with open('./wyniki_model3_mincer/basic_mincer.txt', 'w') as txt_file:\n",
    "    txt_file.write(mle_model.summary().as_text())"
   ]
  }
 ],
 "metadata": {
  "kernelspec": {
   "display_name": "Python 3",
   "language": "python",
   "name": "python3"
  },
  "language_info": {
   "codemirror_mode": {
    "name": "ipython",
    "version": 3
   },
   "file_extension": ".py",
   "mimetype": "text/x-python",
   "name": "python",
   "nbconvert_exporter": "python",
   "pygments_lexer": "ipython3",
   "version": "3.11.4"
  },
  "orig_nbformat": 4
 },
 "nbformat": 4,
 "nbformat_minor": 2
}
