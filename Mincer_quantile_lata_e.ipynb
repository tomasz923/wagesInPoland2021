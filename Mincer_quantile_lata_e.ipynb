{
 "cells": [
  {
   "cell_type": "code",
   "execution_count": 1,
   "metadata": {},
   "outputs": [],
   "source": [
    "#Pobieranie potrzebnych bibliotek\n",
    "import numpy as np\n",
    "import pandas as pd\n",
    "import statsmodels.api as sm\n",
    "import statsmodels.formula.api as smf\n",
    "from statsmodels.stats.outliers_influence import variance_inflation_factor"
   ]
  },
  {
   "cell_type": "code",
   "execution_count": 2,
   "metadata": {},
   "outputs": [
    {
     "name": "stdout",
     "output_type": "stream",
     "text": [
      "Index(['Unnamed: 0', 'doswiadczenie', 'pensja', 'najwyzsze', 'matura',\n",
      "       'doswiadczenie_log', 'czy_ma_mature', 'czy_ma_lic', 'czy_ma_inz',\n",
      "       'czy_ma_mgr', 'czy_ma_mgrinz', 'czy_ma_podyplomowe', 'czy_ma_mba',\n",
      "       'czy_ma_phd', 'kujawsko_pomorskie', 'lubelskie', 'lubuskie', 'lodzkie',\n",
      "       'malopolskie', 'mazowieckie', 'opolskie', 'podkarpackie', 'podlaskie',\n",
      "       'pomorskie', 'slaskie', 'swietokrzyskie', 'warminsko_mazurskie',\n",
      "       'wielkopolskie', 'zachodniopomorskie', 'male_miasto', 'srednie_miasto',\n",
      "       'duze_miasto', 'kobieta', 'ln_wyn', 'edukacja_stp'],\n",
      "      dtype='object')\n",
      "   Unnamed: 0  doswiadczenie  pensja  najwyzsze  matura  doswiadczenie_log  \\\n",
      "0           0             39    2500        NaN       0           3.688879   \n",
      "\n",
      "   czy_ma_mature  czy_ma_lic  czy_ma_inz  czy_ma_mgr  ...  zachodniopomorskie  \\\n",
      "0              0           0           0           0  ...                   0   \n",
      "\n",
      "   male_miasto  srednie_miasto  duze_miasto  kobieta    ln_wyn  edukacja_stp  \\\n",
      "0            1               0            0        0  7.824046             0   \n",
      "\n",
      "   Intercept  edu_lata  dosw_sqrt  \n",
      "0          1       8.0       1521  \n",
      "\n",
      "[1 rows x 38 columns]\n"
     ]
    }
   ],
   "source": [
    "#Ładowanie danych i sprawdzenie kolumn\n",
    "data = pd.read_excel('./artifacts/Mincer.xlsx')\n",
    "print(data.columns)\n",
    "\n",
    "#Stworzenie kolumny 'lata_edukacji'\n",
    "edu_mapping = {\n",
    "    0 :  8,\n",
    "    1:  12,\n",
    "    2:  15,\n",
    "    3:  15.5,\n",
    "    4:  17,\n",
    "    5:  17,\n",
    "    6:  19,\n",
    "    7:  19,\n",
    "    8:  21\n",
    "}\n",
    "\n",
    "data['edu_lata'] = data['edukacja_stp'].map(edu_mapping)\n",
    "data['dosw_sqrt'] = data['doswiadczenie']**2\n",
    "\n",
    "data = data.replace({True: 1, False: 0})\n",
    "print(data.head(1))"
   ]
  },
  {
   "cell_type": "code",
   "execution_count": 3,
   "metadata": {},
   "outputs": [],
   "source": [
    "# Deklarowanie zmiennych potrzebnych do stworzenia modelu\n",
    "zmienne_niezalezne = [\n",
    "    'edu_lata',\n",
    "    'doswiadczenie',\n",
    "    'dosw_sqrt',\n",
    "    'kobieta'\n",
    "]\n",
    "\n",
    "y = np.log(data['pensja'])\n",
    "\n",
    "kwantyle = [0.25, 0.50, 0.75]\n",
    "\n",
    "wyniki = []"
   ]
  },
  {
   "cell_type": "code",
   "execution_count": 4,
   "metadata": {},
   "outputs": [
    {
     "name": "stdout",
     "output_type": "stream",
     "text": [
      "[<statsmodels.regression.linear_model.RegressionResultsWrapper object at 0x000002A5C25453D0>, <statsmodels.regression.linear_model.RegressionResultsWrapper object at 0x000002A5C24E9350>, <statsmodels.regression.linear_model.RegressionResultsWrapper object at 0x000002A5C2544290>]\n"
     ]
    }
   ],
   "source": [
    "# Model\n",
    "for q in kwantyle:\n",
    "    formula = f'y ~ edu_lata + doswiadczenie + dosw_sqrt + kobieta'\n",
    "    model = smf.quantreg(formula, data=data)\n",
    "    quantreg_results = model.fit(q=q)\n",
    "    wyniki.append(quantreg_results)\n",
    "\n",
    "print(wyniki)"
   ]
  },
  {
   "cell_type": "code",
   "execution_count": 5,
   "metadata": {},
   "outputs": [],
   "source": [
    "# Zapisanie wyników\n",
    "for i, result in enumerate(wyniki):\n",
    "    with open(f'./wyniki_model4_minc_kwant/kwantyl_{kwantyle[i]}_wyniki.txt', 'w') as file:\n",
    "        file.write(result.summary().as_text())"
   ]
  },
  {
   "cell_type": "code",
   "execution_count": 10,
   "metadata": {},
   "outputs": [
    {
     "name": "stdout",
     "output_type": "stream",
     "text": [
      "        Variable       VIF\n",
      "0       edu_lata  3.561506\n",
      "1  doswiadczenie  2.474861\n",
      "2        kobieta  2.094765\n"
     ]
    }
   ],
   "source": [
    "#VIF\n",
    "new_df = data[zmienne_niezalezne].copy()\n",
    "\n",
    "vif = pd.DataFrame()\n",
    "vif[\"Variable\"] = new_df.columns\n",
    "vif[\"VIF\"] = [variance_inflation_factor(new_df.values, i) for i in range(new_df.shape[1])]\n",
    "print(vif)"
   ]
  },
  {
   "cell_type": "code",
   "execution_count": 14,
   "metadata": {},
   "outputs": [
    {
     "name": "stdout",
     "output_type": "stream",
     "text": [
      "Quantile 0.25:\n",
      "edu_lata: 0.0362\n",
      "doswiadczenie: 0.0168\n",
      "dosw_sqrt: -0.0004\n",
      "kobieta: -0.3051\n",
      "Quantile 0.5:\n",
      "edu_lata: 0.0442\n",
      "doswiadczenie: 0.0132\n",
      "dosw_sqrt: -0.0002\n",
      "kobieta: -0.3365\n",
      "Quantile 0.75:\n",
      "edu_lata: 0.0485\n",
      "doswiadczenie: 0.0148\n",
      "dosw_sqrt: -0.0003\n",
      "kobieta: -0.4195\n"
     ]
    }
   ],
   "source": [
    "# Wyświetlenie estymatorów do interpretacji\n",
    "decomposition_results = {}\n",
    "\n",
    "for i, result in enumerate(wyniki):\n",
    "    quantile = kwantyle[i]  \n",
    "    decomposition_results[quantile] = {}\n",
    "    \n",
    "    for var in zmienne_niezalezne:\n",
    "        effect = result.params[var]\n",
    "        decomposition_results[quantile][var] = effect\n",
    "for quantile, effects in decomposition_results.items():\n",
    "    print(f\"Quantile {quantile}:\")\n",
    "    for var, effect in effects.items():\n",
    "        print(f\"{var}: {effect:.4f}\")"
   ]
  }
 ],
 "metadata": {
  "kernelspec": {
   "display_name": "Python 3",
   "language": "python",
   "name": "python3"
  },
  "language_info": {
   "codemirror_mode": {
    "name": "ipython",
    "version": 3
   },
   "file_extension": ".py",
   "mimetype": "text/x-python",
   "name": "python",
   "nbconvert_exporter": "python",
   "pygments_lexer": "ipython3",
   "version": "3.11.4"
  },
  "orig_nbformat": 4
 },
 "nbformat": 4,
 "nbformat_minor": 2
}
