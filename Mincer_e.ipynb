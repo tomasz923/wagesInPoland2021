{
 "cells": [
  {
   "cell_type": "code",
   "execution_count": 1,
   "metadata": {},
   "outputs": [],
   "source": [
    "#Pobieranie potrzebnych bibliotek\n",
    "import numpy as np\n",
    "import pandas as pd\n",
    "import statsmodels.api as sm"
   ]
  },
  {
   "cell_type": "code",
   "execution_count": 2,
   "metadata": {},
   "outputs": [
    {
     "name": "stdout",
     "output_type": "stream",
     "text": [
      "Index(['Unnamed: 0', 'matura', 'najwyzsze', 'doswiadczenie', 'woj',\n",
      "       'miejsce_4k', 'etat', 'pensja', 'czy_bez_matury', 'czy_ma_mature',\n",
      "       'czy_ma_lic', 'czy_ma_inz', 'czy_ma_mgr', 'czy_ma_mgrinz',\n",
      "       'czy_ma_podyplomowe', 'czy_ma_mba', 'czy_ma_phd', 'mezczyzna',\n",
      "       'kobieta', 'edukacja'],\n",
      "      dtype='object')\n",
      "   Unnamed: 0  matura  najwyzsze  doswiadczenie  woj  miejsce_4k  etat  \\\n",
      "0           0       1        1.0              5   14           4   100   \n",
      "\n",
      "   pensja  czy_bez_matury  czy_ma_mature  ...  czy_ma_mgrinz  \\\n",
      "0    4800           False          False  ...          False   \n",
      "\n",
      "   czy_ma_podyplomowe  czy_ma_mba  czy_ma_phd  mezczyzna  kobieta  edukacja  \\\n",
      "0               False       False       False      False     True         2   \n",
      "\n",
      "   Intercept  edukacja_lata  dosw_sqrt  \n",
      "0          1           15.0         25  \n",
      "\n",
      "[1 rows x 23 columns]\n"
     ]
    }
   ],
   "source": [
    "#Ładowanie danych i sprawdzenie kolumn\n",
    "data = pd.read_excel('./artifacts/hot_encode_rozszerzone.xlsx')\n",
    "print(data.columns)\n",
    "\n",
    "#Stworzenie kolumny z jedynkami (intercept)\n",
    "data['Intercept'] = 1\n",
    "\n",
    "#Stworzenie kolumny 'lata_edukacji'\n",
    "edu_mapping = {\n",
    "    0 :  8,\n",
    "    1:  12,\n",
    "    2:  15,\n",
    "    3:  15.5,\n",
    "    4:  17,\n",
    "    5:  17,\n",
    "    6:  19,\n",
    "    7:  19,\n",
    "    8:  21\n",
    "}\n",
    "\n",
    "data['edukacja_lata'] = data['edukacja'].map(edu_mapping)\n",
    "data['dosw_sqrt'] = data['doswiadczenie']**2\n",
    "print(data.head(1))"
   ]
  },
  {
   "cell_type": "code",
   "execution_count": 3,
   "metadata": {},
   "outputs": [
    {
     "name": "stdout",
     "output_type": "stream",
     "text": [
      "0\n"
     ]
    }
   ],
   "source": [
    "# Sprawdzabie czy istnieją puste komórki\n",
    "print(data['edukacja_lata'].isna().sum())\n"
   ]
  },
  {
   "cell_type": "code",
   "execution_count": 7,
   "metadata": {},
   "outputs": [
    {
     "name": "stdout",
     "output_type": "stream",
     "text": [
      "                            OLS Regression Results                            \n",
      "==============================================================================\n",
      "Dep. Variable:                 pensja   R-squared:                       0.110\n",
      "Model:                            OLS   Adj. R-squared:                  0.107\n",
      "Method:                 Least Squares   F-statistic:                     30.63\n",
      "Date:                Thu, 14 Sep 2023   Prob (F-statistic):           1.13e-18\n",
      "Time:                        20:20:17   Log-Likelihood:                -455.78\n",
      "No. Observations:                 744   AIC:                             919.6\n",
      "Df Residuals:                     740   BIC:                             938.0\n",
      "Df Model:                           3                                         \n",
      "Covariance Type:            nonrobust                                         \n",
      "=================================================================================\n",
      "                    coef    std err          t      P>|t|      [0.025      0.975]\n",
      "---------------------------------------------------------------------------------\n",
      "Intercept         7.5309      0.071    105.530      0.000       7.391       7.671\n",
      "edukacja_lata     0.0363      0.004      8.597      0.000       0.028       0.045\n",
      "doswiadczenie     0.0190      0.005      3.680      0.000       0.009       0.029\n",
      "dosw_sqrt        -0.0003      0.000     -2.838      0.005      -0.001      -0.000\n",
      "==============================================================================\n",
      "Omnibus:                      104.969   Durbin-Watson:                   2.060\n",
      "Prob(Omnibus):                  0.000   Jarque-Bera (JB):              279.893\n",
      "Skew:                           0.726   Prob(JB):                     1.67e-61\n",
      "Kurtosis:                       5.631   Cond. No.                     3.15e+03\n",
      "==============================================================================\n",
      "\n",
      "Notes:\n",
      "[1] Standard Errors assume that the covariance matrix of the errors is correctly specified.\n",
      "[2] The condition number is large, 3.15e+03. This might indicate that there are\n",
      "strong multicollinearity or other numerical problems.\n"
     ]
    }
   ],
   "source": [
    "# Definiowanie zmiennych\n",
    "X = data[['Intercept', 'edukacja_lata', 'doswiadczenie', 'dosw_sqrt']]\n",
    "y = np.log(data['pensja'])\n",
    "\n",
    "X = sm.add_constant(X)\n",
    "model = sm.OLS(y, X).fit()\n",
    "\n",
    "# Wyniki\n",
    "print(model.summary())"
   ]
  },
  {
   "cell_type": "code",
   "execution_count": 8,
   "metadata": {},
   "outputs": [],
   "source": [
    "with open('./wyniki_modeli5/model1_Mincer/wyniki.txt', 'w') as txt_file:\n",
    "    txt_file.write(model.summary().as_text())"
   ]
  }
 ],
 "metadata": {
  "kernelspec": {
   "display_name": "Python 3",
   "language": "python",
   "name": "python3"
  },
  "language_info": {
   "codemirror_mode": {
    "name": "ipython",
    "version": 3
   },
   "file_extension": ".py",
   "mimetype": "text/x-python",
   "name": "python",
   "nbconvert_exporter": "python",
   "pygments_lexer": "ipython3",
   "version": "3.11.4"
  },
  "orig_nbformat": 4
 },
 "nbformat": 4,
 "nbformat_minor": 2
}
