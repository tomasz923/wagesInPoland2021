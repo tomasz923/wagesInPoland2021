{
 "cells": [
  {
   "cell_type": "code",
   "execution_count": 1,
   "metadata": {},
   "outputs": [],
   "source": [
    "#Pobieranie potrzebnych bibliotek\n",
    "import numpy as np\n",
    "import pandas as pd\n",
    "import statsmodels.api as sm\n",
    "import statsmodels.formula.api as smf\n",
    "from statsmodels.stats.outliers_influence import variance_inflation_factor"
   ]
  },
  {
   "cell_type": "code",
   "execution_count": 2,
   "metadata": {},
   "outputs": [
    {
     "name": "stdout",
     "output_type": "stream",
     "text": [
      "Index(['Unnamed: 0', 'doswiadczenie', 'pensja', 'najwyzsze', 'matura',\n",
      "       'doswiadczenie_log', 'czy_ma_mature', 'czy_ma_lic', 'czy_ma_inz',\n",
      "       'czy_ma_mgr', 'czy_ma_mgrinz', 'czy_ma_podyplomowe', 'czy_ma_mba',\n",
      "       'czy_ma_phd', 'kujawsko_pomorskie', 'lubelskie', 'lubuskie', 'lodzkie',\n",
      "       'malopolskie', 'mazowieckie', 'opolskie', 'podkarpackie', 'podlaskie',\n",
      "       'pomorskie', 'slaskie', 'swietokrzyskie', 'warminsko_mazurskie',\n",
      "       'wielkopolskie', 'zachodniopomorskie', 'male_miasto', 'srednie_miasto',\n",
      "       'duze_miasto', 'kobieta', 'ln_wyn', 'edukacja_stp'],\n",
      "      dtype='object')\n",
      "   Unnamed: 0  doswiadczenie  pensja  najwyzsze  matura  doswiadczenie_log  \\\n",
      "0           0             39    2500        NaN       0           3.688879   \n",
      "\n",
      "   czy_ma_mature  czy_ma_lic  czy_ma_inz  czy_ma_mgr  ...  \\\n",
      "0              0           0           0           0  ...   \n",
      "\n",
      "   warminsko_mazurskie  wielkopolskie  zachodniopomorskie  male_miasto  \\\n",
      "0                    0              0                   0            1   \n",
      "\n",
      "   srednie_miasto  duze_miasto  kobieta    ln_wyn  edukacja_stp  dosw_sqrt  \n",
      "0               0            0        0  7.824046             0       1521  \n",
      "\n",
      "[1 rows x 36 columns]\n"
     ]
    }
   ],
   "source": [
    "#Ładowanie danych i sprawdzenie kolumn\n",
    "data = pd.read_excel('./artifacts/Mincer.xlsx')\n",
    "print(data.columns)\n",
    "\n",
    "data['dosw_sqrt'] = data['doswiadczenie']**2\n",
    "\n",
    "data = data.replace({True: 1, False: 0})\n",
    "print(data.head(1))"
   ]
  },
  {
   "cell_type": "code",
   "execution_count": 3,
   "metadata": {},
   "outputs": [],
   "source": [
    "# Deklarowanie zmiennych potrzebnych do stworzenia modelu\n",
    "zmienne_niezalezne = [\n",
    "    'doswiadczenie',\n",
    "    'dosw_sqrt', \n",
    "    'kobieta', \n",
    "    'czy_ma_mature', \n",
    "    'czy_ma_lic', \n",
    "    'czy_ma_inz',\n",
    "    'czy_ma_mgr', \n",
    "    'czy_ma_mgrinz', \n",
    "    'czy_ma_podyplomowe', \n",
    "    'czy_ma_mba',\n",
    "    'czy_ma_phd'\n",
    "]\n",
    "\n",
    "y = np.log(data['pensja'])\n",
    "\n",
    "kwantyle = [0.25, 0.50, 0.75]\n",
    "\n",
    "wyniki = []"
   ]
  },
  {
   "cell_type": "code",
   "execution_count": 4,
   "metadata": {},
   "outputs": [
    {
     "name": "stdout",
     "output_type": "stream",
     "text": [
      "[<statsmodels.regression.linear_model.RegressionResultsWrapper object at 0x0000024CA25CEF10>, <statsmodels.regression.linear_model.RegressionResultsWrapper object at 0x0000024CD906BC50>, <statsmodels.regression.linear_model.RegressionResultsWrapper object at 0x0000024CD905AE10>]\n"
     ]
    }
   ],
   "source": [
    "# Model\n",
    "for q in kwantyle:\n",
    "    formula = f'y ~ ' + ' + '.join(zmienne_niezalezne)\n",
    "    model = smf.quantreg(formula, data=data)\n",
    "    quantreg_results = model.fit(q=q)\n",
    "    wyniki.append(quantreg_results)\n",
    "\n",
    "print(wyniki)"
   ]
  },
  {
   "cell_type": "code",
   "execution_count": 5,
   "metadata": {},
   "outputs": [],
   "source": [
    "# Zapisanie wyników\n",
    "for i, result in enumerate(wyniki):\n",
    "    with open(f'./wyniki_model4_minc_kwant/eduakcja_zakodowana/z_dosw_sqrt/kwantyl_{kwantyle[i]}_wyniki.txt', 'w') as file:\n",
    "        file.write(result.summary().as_text())"
   ]
  },
  {
   "cell_type": "code",
   "execution_count": 6,
   "metadata": {},
   "outputs": [
    {
     "name": "stdout",
     "output_type": "stream",
     "text": [
      "Quantile 0.25:\n",
      "doswiadczenie: 0.0190\n",
      "dosw_sqrt: -0.0004\n",
      "kobieta: -0.3008\n",
      "czy_ma_mature: 0.1676\n",
      "czy_ma_lic: 0.2618\n",
      "czy_ma_inz: 0.2921\n",
      "czy_ma_mgr: 0.3170\n",
      "czy_ma_mgrinz: 0.4260\n",
      "czy_ma_podyplomowe: 0.3895\n",
      "czy_ma_mba: 1.5964\n",
      "czy_ma_phd: 0.4530\n",
      "Quantile 0.5:\n",
      "doswiadczenie: 0.0145\n",
      "dosw_sqrt: -0.0003\n",
      "kobieta: -0.3224\n",
      "czy_ma_mature: 0.1880\n",
      "czy_ma_lic: 0.2460\n",
      "czy_ma_inz: 0.4378\n",
      "czy_ma_mgr: 0.3799\n",
      "czy_ma_mgrinz: 0.6088\n",
      "czy_ma_podyplomowe: 0.4235\n",
      "czy_ma_mba: 1.5895\n",
      "czy_ma_phd: 0.5297\n",
      "Quantile 0.75:\n",
      "doswiadczenie: 0.0158\n",
      "dosw_sqrt: -0.0003\n",
      "kobieta: -0.3912\n",
      "czy_ma_mature: 0.1966\n",
      "czy_ma_lic: 0.2613\n",
      "czy_ma_inz: 0.5555\n",
      "czy_ma_mgr: 0.4659\n",
      "czy_ma_mgrinz: 0.6878\n",
      "czy_ma_podyplomowe: 0.4345\n",
      "czy_ma_mba: 1.4832\n",
      "czy_ma_phd: 0.4927\n"
     ]
    }
   ],
   "source": [
    "# Wyświetlenie estymatorów do interpretacji\n",
    "decomposition_results = {}\n",
    "\n",
    "for i, result in enumerate(wyniki):\n",
    "    quantile = kwantyle[i] \n",
    "    decomposition_results[quantile] = {}\n",
    "    \n",
    "    for var in zmienne_niezalezne:\n",
    "        effect = result.params[var]\n",
    "        decomposition_results[quantile][var] = effect\n",
    "\n",
    "for quantile, effects in decomposition_results.items():\n",
    "    print(f\"Quantile {quantile}:\")\n",
    "    for var, effect in effects.items():\n",
    "        print(f\"{var}: {effect:.4f}\")"
   ]
  },
  {
   "cell_type": "code",
   "execution_count": 8,
   "metadata": {},
   "outputs": [
    {
     "name": "stdout",
     "output_type": "stream",
     "text": [
      "              Variable        VIF\n",
      "0        doswiadczenie  21.276635\n",
      "1            dosw_sqrt  16.369530\n",
      "2              kobieta   2.092762\n",
      "3        czy_ma_mature   1.490451\n",
      "4           czy_ma_lic   1.157053\n",
      "5           czy_ma_inz   1.042236\n",
      "6           czy_ma_mgr   1.534982\n",
      "7        czy_ma_mgrinz   1.111825\n",
      "8   czy_ma_podyplomowe   1.186927\n",
      "9           czy_ma_mba   1.007681\n",
      "10          czy_ma_phd   1.002963\n"
     ]
    }
   ],
   "source": [
    "# VIF\n",
    "new_df = data[zmienne_niezalezne].copy()\n",
    "\n",
    "vif = pd.DataFrame()\n",
    "vif[\"Variable\"] = new_df.columns\n",
    "vif[\"VIF\"] = [variance_inflation_factor(new_df.values, i) for i in range(new_df.shape[1])]\n",
    "print(vif)"
   ]
  }
 ],
 "metadata": {
  "kernelspec": {
   "display_name": "Python 3",
   "language": "python",
   "name": "python3"
  },
  "language_info": {
   "codemirror_mode": {
    "name": "ipython",
    "version": 3
   },
   "file_extension": ".py",
   "mimetype": "text/x-python",
   "name": "python",
   "nbconvert_exporter": "python",
   "pygments_lexer": "ipython3",
   "version": "3.11.4"
  },
  "orig_nbformat": 4
 },
 "nbformat": 4,
 "nbformat_minor": 2
}
