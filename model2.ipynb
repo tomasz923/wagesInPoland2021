{
 "cells": [
  {
   "cell_type": "code",
   "execution_count": 2,
   "metadata": {},
   "outputs": [],
   "source": [
    "import pandas as pd\n",
    "import numpy as np\n",
    "import statsmodels.api as sm\n",
    "import statsmodels.formula.api as smf"
   ]
  },
  {
   "cell_type": "code",
   "execution_count": 5,
   "metadata": {},
   "outputs": [
    {
     "name": "stdout",
     "output_type": "stream",
     "text": [
      "[<statsmodels.regression.linear_model.RegressionResultsWrapper object at 0x000001C6F1111790>, <statsmodels.regression.linear_model.RegressionResultsWrapper object at 0x000001C6F120F750>, <statsmodels.regression.linear_model.RegressionResultsWrapper object at 0x000001C6F3235F50>, <statsmodels.regression.linear_model.RegressionResultsWrapper object at 0x000001C6F11465D0>, <statsmodels.regression.linear_model.RegressionResultsWrapper object at 0x000001C6F11FE490>]\n"
     ]
    }
   ],
   "source": [
    "df = pd.read_excel(r\"C:\\Users\\Tomek\\Desktop\\wagesInPoland2021\\artefacts\\hot_encode.xlsx\")\n",
    "zmienne_niezalezne = [\n",
    "    'doswiadczenie_log',\n",
    "    'czy_ma_mature',\n",
    "    'czy_ma_lic',\n",
    "    'czy_ma_inz',\n",
    "    'czy_ma_mgr',\n",
    "    'czy_ma_mgrinz',\n",
    "    'czy_ma_podyplomowe',\n",
    "    'czy_ma_mba',\n",
    "    'czy_ma_phd',\n",
    "    'male_miasto',\n",
    "    'srednie_miasto',\n",
    "    'duze_miasto',\n",
    "    'kobieta'\n",
    "]\n",
    "\n",
    "kwantyle = [0.10, 0.25, 0.50, 0.75, 0.90]\n",
    "\n",
    "wyniki = []\n",
    "\n",
    "for q in kwantyle:\n",
    "    formula = f'pensja ~ doswiadczenie_log + ' + ' + '.join(zmienne_niezalezne)\n",
    "    model = smf.quantreg(formula, data=df)\n",
    "    quantreg_results = model.fit(q=q)\n",
    "    wyniki.append(quantreg_results)\n",
    "\n",
    "print(wyniki)\n"
   ]
  },
  {
   "cell_type": "code",
   "execution_count": 6,
   "metadata": {},
   "outputs": [],
   "source": [
    "for i, result in enumerate(wyniki):\n",
    "    with open(f'./wyniki_model2_bez_woj/kwantyl_{kwantyle[i]}_wyniki.txt', 'w') as file:\n",
    "        file.write(result.summary().as_text())"
   ]
  }
 ],
 "metadata": {
  "kernelspec": {
   "display_name": "Python 3",
   "language": "python",
   "name": "python3"
  },
  "language_info": {
   "codemirror_mode": {
    "name": "ipython",
    "version": 3
   },
   "file_extension": ".py",
   "mimetype": "text/x-python",
   "name": "python",
   "nbconvert_exporter": "python",
   "pygments_lexer": "ipython3",
   "version": "3.11.4"
  },
  "orig_nbformat": 4
 },
 "nbformat": 4,
 "nbformat_minor": 2
}
