{
 "cells": [
  {
   "cell_type": "code",
   "execution_count": 1,
   "metadata": {},
   "outputs": [],
   "source": [
    "import pandas as pd"
   ]
  },
  {
   "cell_type": "code",
   "execution_count": 2,
   "metadata": {},
   "outputs": [],
   "source": [
    "df = pd.read_excel(r\"C:\\Users\\Tomek\\Desktop\\wagesInPoland2021\\artefacts\\dataTrusted.xlsx\")"
   ]
  },
  {
   "cell_type": "code",
   "execution_count": 3,
   "metadata": {},
   "outputs": [],
   "source": [
    "#Hot Encoding edukacji\n",
    "edu_mapping = {\n",
    "    '0': 'czy_bez_matury',\n",
    "    '1': 'czy_ma_mature',\n",
    "    '2': 'czy_ma_lic',\n",
    "    '3': 'czy_ma_inz',\n",
    "    '4': 'czy_ma_mgr',\n",
    "    '5': 'czy_ma_mgrinz',\n",
    "    '6': 'czy_ma_podyplomowe',\n",
    "    '7': 'czy_ma_mba',\n",
    "    '8': 'czy_ma_phd'\n",
    "}\n",
    "\n",
    "df_encoded = pd.get_dummies(df, columns=['edukacja'], prefix='', prefix_sep='', dummy_na=False)\n",
    "df_encoded = df_encoded.rename(columns=edu_mapping)\n",
    "df_encoded.to_excel(r\"C:\\Users\\Tomek\\Desktop\\wagesInPoland2021\\artefacts\\hot_code.xlsx\")"
   ]
  },
  {
   "cell_type": "code",
   "execution_count": 4,
   "metadata": {},
   "outputs": [],
   "source": [
    "#Hot Encoding województw\n",
    "woj_mapping = {\n",
    "    '2': 'dolnoslaskie',\n",
    "    '4': 'kujawsko_pomorskie',\n",
    "    '6': 'lubelskie',\n",
    "    '8': 'lubuskie',\n",
    "    '10': 'lodzkie',\n",
    "    '12': 'malopolskie',\n",
    "    '14': 'mazowieckie',\n",
    "    '16': 'opolskie',\n",
    "    '18': 'podkarpackie',\n",
    "    '20': 'podlaskie',\n",
    "    '22': 'pomorskie',\n",
    "    '24': 'slaskie',\n",
    "    '26': 'swietokrzyskie',\n",
    "    '28': 'warminsko_mazurskie',\n",
    "    '30': 'wielkopolskie',\n",
    "    '32': 'zachodniopomorskie'\n",
    "}\n",
    "\n",
    "\n",
    "df_encoded2 = pd.get_dummies(df_encoded, columns=['woj'], prefix='', prefix_sep='', dummy_na=False)\n",
    "df_encoded2 = df_encoded2.rename(columns=woj_mapping)\n",
    "df_encoded2.to_excel(r\"C:\\Users\\Tomek\\Desktop\\wagesInPoland2021\\artefacts\\hot_code.xlsx\")"
   ]
  },
  {
   "cell_type": "code",
   "execution_count": 5,
   "metadata": {},
   "outputs": [],
   "source": [
    "miejsce_mapping = {\n",
    "    '1': 'wies',\n",
    "    '2': 'male_miasto',\n",
    "    '3': 'srednie_miasto',\n",
    "    '4': 'duze_miasto'\n",
    "}\n",
    "\n",
    "# Create a new column with the encoded values\n",
    "df_encoded3 = pd.get_dummies(df_encoded2, columns=['miejsce'], prefix='', prefix_sep='', dummy_na=False)\n",
    "df_encoded3 = df_encoded3.rename(columns=miejsce_mapping)\n",
    "df_encoded3.to_excel(r\"C:\\Users\\Tomek\\Desktop\\wagesInPoland2021\\artefacts\\hot_code.xlsx\")"
   ]
  },
  {
   "cell_type": "code",
   "execution_count": 6,
   "metadata": {},
   "outputs": [],
   "source": [
    "plec_mapping = {\n",
    "    '0' : 'mezczyzna',\n",
    "    '1' : 'kobieta'\n",
    "}\n",
    "\n",
    "# Create a new column with the encoded values\n",
    "df_encoded4 = pd.get_dummies(df_encoded3, columns=['plec'], prefix='', prefix_sep='', dummy_na=False)\n",
    "df_encoded4 = df_encoded4.rename(columns=plec_mapping)\n",
    "df_encoded4.to_excel(r\"C:\\Users\\Tomek\\Desktop\\wagesInPoland2021\\artefacts\\hot_encode.xlsx\")"
   ]
  }
 ],
 "metadata": {
  "kernelspec": {
   "display_name": "Python 3",
   "language": "python",
   "name": "python3"
  },
  "language_info": {
   "codemirror_mode": {
    "name": "ipython",
    "version": 3
   },
   "file_extension": ".py",
   "mimetype": "text/x-python",
   "name": "python",
   "nbconvert_exporter": "python",
   "pygments_lexer": "ipython3",
   "version": "3.11.4"
  },
  "orig_nbformat": 4
 },
 "nbformat": 4,
 "nbformat_minor": 2
}
