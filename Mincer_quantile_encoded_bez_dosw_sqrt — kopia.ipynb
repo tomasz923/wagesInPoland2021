{
 "cells": [
  {
   "cell_type": "code",
   "execution_count": 1,
   "metadata": {},
   "outputs": [],
   "source": [
    "#Pobieranie potrzebnych bibliotek\n",
    "import numpy as np\n",
    "import pandas as pd\n",
    "import statsmodels.api as sm\n",
    "import statsmodels.formula.api as smf\n",
    "from statsmodels.stats.outliers_influence import variance_inflation_factor"
   ]
  },
  {
   "cell_type": "code",
   "execution_count": 2,
   "metadata": {},
   "outputs": [
    {
     "name": "stdout",
     "output_type": "stream",
     "text": [
      "Index(['Unnamed: 0', 'doswiadczenie', 'pensja', 'najwyzsze', 'matura',\n",
      "       'doswiadczenie_log', 'czy_ma_mature', 'czy_ma_lic', 'czy_ma_inz',\n",
      "       'czy_ma_mgr', 'czy_ma_mgrinz', 'czy_ma_podyplomowe', 'czy_ma_mba',\n",
      "       'czy_ma_phd', 'kujawsko_pomorskie', 'lubelskie', 'lubuskie', 'lodzkie',\n",
      "       'malopolskie', 'mazowieckie', 'opolskie', 'podkarpackie', 'podlaskie',\n",
      "       'pomorskie', 'slaskie', 'swietokrzyskie', 'warminsko_mazurskie',\n",
      "       'wielkopolskie', 'zachodniopomorskie', 'male_miasto', 'srednie_miasto',\n",
      "       'duze_miasto', 'kobieta', 'ln_wyn', 'edukacja_stp'],\n",
      "      dtype='object')\n",
      "   Unnamed: 0  doswiadczenie  pensja  najwyzsze  matura  doswiadczenie_log  \\\n",
      "0           0             39    2500        NaN       0           3.688879   \n",
      "\n",
      "   czy_ma_mature  czy_ma_lic  czy_ma_inz  czy_ma_mgr  ...  swietokrzyskie  \\\n",
      "0              0           0           0           0  ...               0   \n",
      "\n",
      "   warminsko_mazurskie  wielkopolskie  zachodniopomorskie  male_miasto  \\\n",
      "0                    0              0                   0            1   \n",
      "\n",
      "   srednie_miasto  duze_miasto  kobieta    ln_wyn  edukacja_stp  \n",
      "0               0            0        0  7.824046             0  \n",
      "\n",
      "[1 rows x 35 columns]\n"
     ]
    }
   ],
   "source": [
    "#Ładowanie danych i sprawdzenie kolumn\n",
    "data = pd.read_excel('./artifacts/Mincer.xlsx')\n",
    "print(data.columns)\n",
    "\n",
    "data = data.replace({True: 1, False: 0})\n",
    "print(data.head(1))"
   ]
  },
  {
   "cell_type": "code",
   "execution_count": 3,
   "metadata": {},
   "outputs": [],
   "source": [
    "# Deklarowanie zmiennych potrzebnych do stworzenia modelu\n",
    "zmienne_niezalezne = [\n",
    "    'doswiadczenie', \n",
    "    'kobieta', \n",
    "    'czy_ma_mature', \n",
    "    'czy_ma_lic', \n",
    "    'czy_ma_inz',\n",
    "    'czy_ma_mgr', \n",
    "    'czy_ma_mgrinz', \n",
    "    'czy_ma_podyplomowe', \n",
    "    'czy_ma_mba',\n",
    "    'czy_ma_phd'\n",
    "]\n",
    "\n",
    "y = np.log(data['pensja'])\n",
    "\n",
    "kwantyle = [0.05, 0.10, 0.25, 0.50, 0.75, 0.90, 0.95]\n",
    "\n",
    "wyniki = []"
   ]
  },
  {
   "cell_type": "code",
   "execution_count": 4,
   "metadata": {},
   "outputs": [
    {
     "name": "stdout",
     "output_type": "stream",
     "text": [
      "[<statsmodels.regression.linear_model.RegressionResultsWrapper object at 0x0000021E90BB6490>, <statsmodels.regression.linear_model.RegressionResultsWrapper object at 0x0000021E90BB7710>, <statsmodels.regression.linear_model.RegressionResultsWrapper object at 0x0000021E90B89E90>, <statsmodels.regression.linear_model.RegressionResultsWrapper object at 0x0000021E90BBE610>, <statsmodels.regression.linear_model.RegressionResultsWrapper object at 0x0000021E90BE1A10>, <statsmodels.regression.linear_model.RegressionResultsWrapper object at 0x0000021E90BF7CD0>, <statsmodels.regression.linear_model.RegressionResultsWrapper object at 0x0000021E90BD5D90>]\n"
     ]
    }
   ],
   "source": [
    "# Model\n",
    "for q in kwantyle:\n",
    "    formula = f'y ~ ' + ' + '.join(zmienne_niezalezne)\n",
    "    model = smf.quantreg(formula, data=data)\n",
    "    quantreg_results = model.fit(q=q)\n",
    "    wyniki.append(quantreg_results)\n",
    "\n",
    "print(wyniki)"
   ]
  },
  {
   "cell_type": "code",
   "execution_count": 6,
   "metadata": {},
   "outputs": [],
   "source": [
    "# Zapisanie wyników\n",
    "for i, result in enumerate(wyniki):\n",
    "    with open(f'./1234/kwantyl_{kwantyle[i]}_wyniki.txt', 'w') as file:\n",
    "        file.write(result.summary().as_text())"
   ]
  },
  {
   "cell_type": "code",
   "execution_count": 7,
   "metadata": {},
   "outputs": [
    {
     "name": "stdout",
     "output_type": "stream",
     "text": [
      "Quantile 0.05:\n",
      "doswiadczenie: -0.0007\n",
      "kobieta: -0.4211\n",
      "czy_ma_mature: 0.2672\n",
      "czy_ma_lic: 0.3382\n",
      "czy_ma_inz: 0.2583\n",
      "czy_ma_mgr: 0.4259\n",
      "czy_ma_mgrinz: 0.6286\n",
      "czy_ma_podyplomowe: 0.6526\n",
      "czy_ma_mba: 2.1589\n",
      "czy_ma_phd: 1.0334\n",
      "Quantile 0.1:\n",
      "doswiadczenie: 0.0013\n",
      "kobieta: -0.2765\n",
      "czy_ma_mature: 0.2531\n",
      "czy_ma_lic: 0.2377\n",
      "czy_ma_inz: 0.1499\n",
      "czy_ma_mgr: 0.2941\n",
      "czy_ma_mgrinz: 0.4761\n",
      "czy_ma_podyplomowe: 0.4875\n",
      "czy_ma_mba: 1.9456\n",
      "czy_ma_phd: 0.6931\n",
      "Quantile 0.25:\n",
      "doswiadczenie: 0.0021\n",
      "kobieta: -0.3071\n",
      "czy_ma_mature: 0.1714\n",
      "czy_ma_lic: 0.2263\n",
      "czy_ma_inz: 0.2529\n",
      "czy_ma_mgr: 0.3459\n",
      "czy_ma_mgrinz: 0.4161\n",
      "czy_ma_podyplomowe: 0.4128\n",
      "czy_ma_mba: 1.6388\n",
      "czy_ma_phd: 0.4246\n",
      "Quantile 0.5:\n",
      "doswiadczenie: 0.0035\n",
      "kobieta: -0.3224\n",
      "czy_ma_mature: 0.1707\n",
      "czy_ma_lic: 0.2796\n",
      "czy_ma_inz: 0.4505\n",
      "czy_ma_mgr: 0.4057\n",
      "czy_ma_mgrinz: 0.6464\n",
      "czy_ma_podyplomowe: 0.4125\n",
      "czy_ma_mba: 1.6180\n",
      "czy_ma_phd: 0.5067\n",
      "Quantile 0.75:\n",
      "doswiadczenie: 0.0043\n",
      "kobieta: -0.3699\n",
      "czy_ma_mature: 0.2018\n",
      "czy_ma_lic: 0.2802\n",
      "czy_ma_inz: 0.5644\n",
      "czy_ma_mgr: 0.4682\n",
      "czy_ma_mgrinz: 0.7148\n",
      "czy_ma_podyplomowe: 0.4509\n",
      "czy_ma_mba: 1.5099\n",
      "czy_ma_phd: 0.4942\n",
      "Quantile 0.9:\n",
      "doswiadczenie: 0.0057\n",
      "kobieta: -0.4880\n",
      "czy_ma_mature: 0.2455\n",
      "czy_ma_lic: 0.2460\n",
      "czy_ma_inz: 1.0472\n",
      "czy_ma_mgr: 0.5508\n",
      "czy_ma_mgrinz: 0.6478\n",
      "czy_ma_podyplomowe: 0.4797\n",
      "czy_ma_mba: 1.1811\n",
      "czy_ma_phd: 0.1999\n",
      "Quantile 0.95:\n",
      "doswiadczenie: 0.0074\n",
      "kobieta: -0.5468\n",
      "czy_ma_mature: 0.4300\n",
      "czy_ma_lic: 0.3088\n",
      "czy_ma_inz: 1.0701\n",
      "czy_ma_mgr: 0.6489\n",
      "czy_ma_mgrinz: 0.6931\n",
      "czy_ma_podyplomowe: 0.8080\n",
      "czy_ma_mba: 1.0031\n",
      "czy_ma_phd: 0.0652\n"
     ]
    }
   ],
   "source": [
    "# Wyświetlenie estymatorów do interpretacji\n",
    "decomposition_results = {}\n",
    "\n",
    "for i, result in enumerate(wyniki):\n",
    "    quantile = kwantyle[i]  \n",
    "    decomposition_results[quantile] = {}\n",
    "    \n",
    "    for var in zmienne_niezalezne:\n",
    "        effect = result.params[var]\n",
    "        decomposition_results[quantile][var] = effect\n",
    "\n",
    "for quantile, effects in decomposition_results.items():\n",
    "    print(f\"Quantile {quantile}:\")\n",
    "    for var, effect in effects.items():\n",
    "        print(f\"{var}: {effect:.4f}\")"
   ]
  },
  {
   "cell_type": "code",
   "execution_count": 8,
   "metadata": {},
   "outputs": [
    {
     "name": "stdout",
     "output_type": "stream",
     "text": [
      "             Variable       VIF\n",
      "0       doswiadczenie  1.726378\n",
      "1             kobieta  1.988497\n",
      "2       czy_ma_mature  1.368604\n",
      "3          czy_ma_lic  1.112129\n",
      "4          czy_ma_inz  1.017536\n",
      "5          czy_ma_mgr  1.421955\n",
      "6       czy_ma_mgrinz  1.054514\n",
      "7  czy_ma_podyplomowe  1.153283\n",
      "8          czy_ma_mba  1.003679\n",
      "9          czy_ma_phd  1.001957\n"
     ]
    }
   ],
   "source": [
    "# VIF\n",
    "new_df = data[zmienne_niezalezne].copy()\n",
    "\n",
    "vif = pd.DataFrame()\n",
    "vif[\"Variable\"] = new_df.columns\n",
    "vif[\"VIF\"] = [variance_inflation_factor(new_df.values, i) for i in range(new_df.shape[1])]\n",
    "print(vif)"
   ]
  }
 ],
 "metadata": {
  "kernelspec": {
   "display_name": "Python 3",
   "language": "python",
   "name": "python3"
  },
  "language_info": {
   "codemirror_mode": {
    "name": "ipython",
    "version": 3
   },
   "file_extension": ".py",
   "mimetype": "text/x-python",
   "name": "python",
   "nbconvert_exporter": "python",
   "pygments_lexer": "ipython3",
   "version": "3.11.4"
  },
  "orig_nbformat": 4
 },
 "nbformat": 4,
 "nbformat_minor": 2
}
