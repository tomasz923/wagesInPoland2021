{
 "cells": [
  {
   "cell_type": "code",
   "execution_count": 1,
   "metadata": {},
   "outputs": [],
   "source": [
    "#Pobieranie potrzebnych bibliotek\n",
    "import numpy as np\n",
    "import pandas as pd\n",
    "import statsmodels.api as sm"
   ]
  },
  {
   "cell_type": "code",
   "execution_count": 2,
   "metadata": {},
   "outputs": [
    {
     "name": "stdout",
     "output_type": "stream",
     "text": [
      "Index(['Unnamed: 0', 'doswiadczenie', 'pensja', 'najwyzsze', 'matura',\n",
      "       'doswiadczenie_log', 'czy_ma_mature', 'czy_ma_lic', 'czy_ma_inz',\n",
      "       'czy_ma_mgr', 'czy_ma_mgrinz', 'czy_ma_podyplomowe', 'czy_ma_mba',\n",
      "       'czy_ma_phd', 'kujawsko_pomorskie', 'lubelskie', 'lubuskie', 'lodzkie',\n",
      "       'malopolskie', 'mazowieckie', 'opolskie', 'podkarpackie', 'podlaskie',\n",
      "       'pomorskie', 'slaskie', 'swietokrzyskie', 'warminsko_mazurskie',\n",
      "       'wielkopolskie', 'zachodniopomorskie', 'male_miasto', 'srednie_miasto',\n",
      "       'duze_miasto', 'kobieta', 'ln_wyn', 'edukacja_stp'],\n",
      "      dtype='object')\n",
      "   Unnamed: 0  doswiadczenie  pensja  najwyzsze  matura  doswiadczenie_log  \\\n",
      "0           0             39    2500        NaN       0           3.688879   \n",
      "\n",
      "   czy_ma_mature  czy_ma_lic  czy_ma_inz  czy_ma_mgr  ...  zachodniopomorskie  \\\n",
      "0              0           0           0           0  ...                   0   \n",
      "\n",
      "   male_miasto  srednie_miasto  duze_miasto  kobieta    ln_wyn  edukacja_stp  \\\n",
      "0            1               0            0        0  7.824046             0   \n",
      "\n",
      "   Intercept  edu_lata  dosw_sqrt  \n",
      "0          1       8.0       1521  \n",
      "\n",
      "[1 rows x 38 columns]\n"
     ]
    }
   ],
   "source": [
    "#Ładowanie danych i sprawdzenie kolumn\n",
    "data = pd.read_excel('./artefacts/Mincer.xlsx')\n",
    "print(data.columns)\n",
    "\n",
    "#Stworzenie kolumny z jedynkami (intercept)\n",
    "data['Intercept'] = 1\n",
    "\n",
    "#Stworzenie kolumny 'lata_edukacji'\n",
    "edu_mapping = {\n",
    "    0 :  8,\n",
    "    1:  12,\n",
    "    2:  15,\n",
    "    3:  15.5,\n",
    "    4:  17,\n",
    "    5:  17,\n",
    "    6:  19,\n",
    "    7:  19,\n",
    "    8:  21\n",
    "}\n",
    "\n",
    "data['edu_lata'] = data['edukacja_stp'].map(edu_mapping)\n",
    "data['dosw_sqrt'] = data['doswiadczenie']**2\n",
    "\n",
    "data = data.replace({True: 1, False: 0})\n",
    "print(data.head(1))"
   ]
  },
  {
   "cell_type": "code",
   "execution_count": 3,
   "metadata": {},
   "outputs": [
    {
     "name": "stdout",
     "output_type": "stream",
     "text": [
      "                 Generalized Linear Model Regression Results                  \n",
      "==============================================================================\n",
      "Dep. Variable:                 pensja   No. Observations:                  935\n",
      "Model:                            GLM   Df Residuals:                      912\n",
      "Model Family:                Gaussian   Df Model:                           22\n",
      "Link Function:                    log   Scale:                         0.19158\n",
      "Method:                          IRLS   Log-Likelihood:                -542.68\n",
      "Date:                Sun, 10 Sep 2023   Deviance:                       174.72\n",
      "Time:                        23:14:05   Pearson chi2:                     175.\n",
      "No. Iterations:                     5   Pseudo R-squ. (CS):             0.3322\n",
      "Covariance Type:            nonrobust                                         \n",
      "=======================================================================================\n",
      "                          coef    std err          z      P>|z|      [0.025      0.975]\n",
      "---------------------------------------------------------------------------------------\n",
      "Intercept               2.0336      0.011    192.228      0.000       2.013       2.054\n",
      "edu_lata                0.0059      0.000     11.927      0.000       0.005       0.007\n",
      "doswiadczenie           0.0026      0.001      4.910      0.000       0.002       0.004\n",
      "dosw_sqrt           -5.149e-05   1.18e-05     -4.347      0.000   -7.47e-05   -2.83e-05\n",
      "kobieta                -0.0487      0.004    -13.358      0.000      -0.056      -0.042\n",
      "male_miasto            -0.0073      0.005     -1.504      0.133      -0.017       0.002\n",
      "srednie_miasto         -0.0009      0.005     -0.168      0.867      -0.011       0.009\n",
      "duze_miasto             0.0143      0.005      2.830      0.005       0.004       0.024\n",
      "kujawsko_pomorskie     -0.0230      0.010     -2.306      0.021      -0.043      -0.003\n",
      "lubelskie              -0.0025      0.010     -0.244      0.807      -0.022       0.017\n",
      "lubuskie               -0.0203      0.017     -1.221      0.222      -0.053       0.012\n",
      "lodzkie                -0.0055      0.010     -0.534      0.593      -0.026       0.015\n",
      "malopolskie             0.0009      0.009      0.097      0.923      -0.018       0.020\n",
      "mazowieckie            -0.0003      0.009     -0.035      0.972      -0.017       0.017\n",
      "opolskie               -0.0218      0.013     -1.666      0.096      -0.047       0.004\n",
      "podkarpackie           -0.0255      0.009     -2.784      0.005      -0.043      -0.008\n",
      "podlaskie              -0.0003      0.012     -0.028      0.977      -0.024       0.023\n",
      "pomorskie               0.0019      0.010      0.197      0.844      -0.017       0.021\n",
      "slaskie                -0.0049      0.009     -0.539      0.590      -0.023       0.013\n",
      "swietokrzyskie         -0.0112      0.010     -1.072      0.284      -0.032       0.009\n",
      "warminsko_mazurskie    -0.0047      0.018     -0.266      0.790      -0.040       0.030\n",
      "wielkopolskie          -0.0085      0.009     -0.956      0.339      -0.026       0.009\n",
      "zachodniopomorskie     -0.0120      0.013     -0.917      0.359      -0.038       0.014\n",
      "=======================================================================================\n"
     ]
    },
    {
     "name": "stderr",
     "output_type": "stream",
     "text": [
      "c:\\Users\\Tomek\\AppData\\Local\\Programs\\Python\\Python311\\Lib\\site-packages\\statsmodels\\genmod\\families\\links.py:13: FutureWarning: The log link alias is deprecated. Use Log instead. The log link alias will be removed after the 0.15.0 release.\n",
      "  warnings.warn(\n"
     ]
    }
   ],
   "source": [
    "#Zdefiniowanie wymaganych kolumnn\n",
    "X = data[['Intercept', 'edu_lata', 'doswiadczenie', 'dosw_sqrt', 'kobieta', 'male_miasto', 'srednie_miasto', 'duze_miasto', 'kujawsko_pomorskie',\n",
    "        'lubelskie', 'lubuskie', 'lodzkie',\n",
    "       'malopolskie', 'mazowieckie', 'opolskie', 'podkarpackie', 'podlaskie',\n",
    "       'pomorskie', 'slaskie', 'swietokrzyskie', 'warminsko_mazurskie',\n",
    "       'wielkopolskie', 'zachodniopomorskie']]\n",
    "y = np.log(data['pensja'])\n",
    "\n",
    "#Model\n",
    "mle_model = sm.GLM(y, X, family=sm.families.Gaussian(link=sm.families.links.log())).fit()\n",
    "\n",
    "\n",
    "print(mle_model.summary())"
   ]
  },
  {
   "cell_type": "code",
   "execution_count": 4,
   "metadata": {},
   "outputs": [],
   "source": [
    "with open('./wyniki_model3_mincer/gender_size_woj_mincer.txt', 'w') as txt_file:\n",
    "    txt_file.write(mle_model.summary().as_text())"
   ]
  }
 ],
 "metadata": {
  "kernelspec": {
   "display_name": "Python 3",
   "language": "python",
   "name": "python3"
  },
  "language_info": {
   "codemirror_mode": {
    "name": "ipython",
    "version": 3
   },
   "file_extension": ".py",
   "mimetype": "text/x-python",
   "name": "python",
   "nbconvert_exporter": "python",
   "pygments_lexer": "ipython3",
   "version": "3.11.4"
  },
  "orig_nbformat": 4
 },
 "nbformat": 4,
 "nbformat_minor": 2
}
