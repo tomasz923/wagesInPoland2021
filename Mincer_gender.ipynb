{
 "cells": [
  {
   "cell_type": "code",
   "execution_count": 1,
   "metadata": {},
   "outputs": [],
   "source": [
    "#Pobieranie potrzebnych bibliotek\n",
    "import numpy as np\n",
    "import pandas as pd\n",
    "import statsmodels.api as sm"
   ]
  },
  {
   "cell_type": "code",
   "execution_count": 2,
   "metadata": {},
   "outputs": [
    {
     "name": "stdout",
     "output_type": "stream",
     "text": [
      "Index(['Unnamed: 0', 'doswiadczenie', 'pensja', 'najwyzsze', 'matura',\n",
      "       'doswiadczenie_log', 'czy_ma_mature', 'czy_ma_lic', 'czy_ma_inz',\n",
      "       'czy_ma_mgr', 'czy_ma_mgrinz', 'czy_ma_podyplomowe', 'czy_ma_mba',\n",
      "       'czy_ma_phd', 'kujawsko_pomorskie', 'lubelskie', 'lubuskie', 'lodzkie',\n",
      "       'malopolskie', 'mazowieckie', 'opolskie', 'podkarpackie', 'podlaskie',\n",
      "       'pomorskie', 'slaskie', 'swietokrzyskie', 'warminsko_mazurskie',\n",
      "       'wielkopolskie', 'zachodniopomorskie', 'male_miasto', 'srednie_miasto',\n",
      "       'duze_miasto', 'kobieta', 'ln_wyn', 'edukacja_stp'],\n",
      "      dtype='object')\n",
      "   Unnamed: 0  doswiadczenie  pensja  najwyzsze  matura  doswiadczenie_log  \\\n",
      "0           0             39    2500        NaN       0           3.688879   \n",
      "\n",
      "   czy_ma_mature  czy_ma_lic  czy_ma_inz  czy_ma_mgr  ...  zachodniopomorskie  \\\n",
      "0              0           0           0           0  ...                   0   \n",
      "\n",
      "   male_miasto  srednie_miasto  duze_miasto  kobieta    ln_wyn  edukacja_stp  \\\n",
      "0            1               0            0        0  7.824046             0   \n",
      "\n",
      "   Intercept  edu_lata  dosw_sqrt  \n",
      "0          1       8.0       1521  \n",
      "\n",
      "[1 rows x 38 columns]\n"
     ]
    }
   ],
   "source": [
    "#Ładowanie danych i sprawdzenie kolumn\n",
    "data = pd.read_excel('./artefacts/Mincer.xlsx')\n",
    "print(data.columns)\n",
    "\n",
    "#Stworzenie kolumny z jedynkami (intercept)\n",
    "data['Intercept'] = 1\n",
    "\n",
    "#Stworzenie kolumny 'lata_edukacji'\n",
    "edu_mapping = {\n",
    "    0 :  8,\n",
    "    1:  12,\n",
    "    2:  15,\n",
    "    3:  15.5,\n",
    "    4:  17,\n",
    "    5:  17,\n",
    "    6:  19,\n",
    "    7:  19,\n",
    "    8:  21\n",
    "}\n",
    "\n",
    "data['edu_lata'] = data['edukacja_stp'].map(edu_mapping)\n",
    "data['dosw_sqrt'] = data['doswiadczenie']**2\n",
    "\n",
    "#Stworzenie kolumny 'lata_edukacji'\n",
    "gender_mapping = {\n",
    "    0 :  8,\n",
    "    1:  12,\n",
    "    2:  15,\n",
    "    3:  15.5,\n",
    "    4:  17,\n",
    "    5:  17,\n",
    "    6:  19,\n",
    "    7:  19,\n",
    "    8:  21\n",
    "}\n",
    "\n",
    "data = data.replace({True: 1, False: 0})\n",
    "print(data.head(1))"
   ]
  },
  {
   "cell_type": "code",
   "execution_count": 5,
   "metadata": {},
   "outputs": [
    {
     "name": "stdout",
     "output_type": "stream",
     "text": [
      "                 Generalized Linear Model Regression Results                  \n",
      "==============================================================================\n",
      "Dep. Variable:                 pensja   No. Observations:                  935\n",
      "Model:                            GLM   Df Residuals:                      930\n",
      "Model Family:                Gaussian   Df Model:                            4\n",
      "Link Function:                    log   Scale:                         0.19745\n",
      "Method:                          IRLS   Log-Likelihood:                -565.80\n",
      "Date:                Sun, 10 Sep 2023   Deviance:                       183.63\n",
      "Time:                        23:08:27   Pearson chi2:                     184.\n",
      "No. Iterations:                     5   Pseudo R-squ. (CS):             0.2908\n",
      "Covariance Type:            nonrobust                                         \n",
      "=================================================================================\n",
      "                    coef    std err          z      P>|z|      [0.025      0.975]\n",
      "---------------------------------------------------------------------------------\n",
      "Intercept         2.0225      0.008    260.790      0.000       2.007       2.038\n",
      "edu_lata          0.0062      0.000     13.181      0.000       0.005       0.007\n",
      "doswiadczenie     0.0027      0.001      5.104      0.000       0.002       0.004\n",
      "dosw_sqrt     -5.448e-05   1.19e-05     -4.560      0.000   -7.79e-05   -3.11e-05\n",
      "kobieta          -0.0493      0.004    -13.466      0.000      -0.056      -0.042\n",
      "=================================================================================\n"
     ]
    },
    {
     "name": "stderr",
     "output_type": "stream",
     "text": [
      "c:\\Users\\Tomek\\AppData\\Local\\Programs\\Python\\Python311\\Lib\\site-packages\\statsmodels\\genmod\\families\\links.py:13: FutureWarning: The log link alias is deprecated. Use Log instead. The log link alias will be removed after the 0.15.0 release.\n",
      "  warnings.warn(\n"
     ]
    }
   ],
   "source": [
    "# Define the independent variables and the dependent variable\n",
    "X = data[['Intercept', 'edu_lata', 'doswiadczenie', 'dosw_sqrt', 'kobieta']]\n",
    "y = np.log(data['pensja'])\n",
    "\n",
    "# Perform Maximum Likelihood Estimation (MLE) using the OLS results as initial estimates\n",
    "mle_model = sm.GLM(y, X, family=sm.families.Gaussian(link=sm.families.links.log())).fit()\n",
    "\n",
    "# Print the summary of the MLE model\n",
    "print(mle_model.summary())"
   ]
  },
  {
   "cell_type": "code",
   "execution_count": 6,
   "metadata": {},
   "outputs": [],
   "source": [
    "with open('./wyniki_model3_mincer/gender_mincer.txt', 'w') as txt_file:\n",
    "    txt_file.write(mle_model.summary().as_text())"
   ]
  }
 ],
 "metadata": {
  "kernelspec": {
   "display_name": "Python 3",
   "language": "python",
   "name": "python3"
  },
  "language_info": {
   "codemirror_mode": {
    "name": "ipython",
    "version": 3
   },
   "file_extension": ".py",
   "mimetype": "text/x-python",
   "name": "python",
   "nbconvert_exporter": "python",
   "pygments_lexer": "ipython3",
   "version": "3.11.4"
  },
  "orig_nbformat": 4
 },
 "nbformat": 4,
 "nbformat_minor": 2
}
